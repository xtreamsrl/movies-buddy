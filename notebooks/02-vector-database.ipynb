{
 "cells": [
  {
   "cell_type": "markdown",
   "id": "0",
   "metadata": {},
   "source": [
    "# Vector Databases"
   ]
  },
  {
   "cell_type": "code",
   "execution_count": null,
   "id": "1",
   "metadata": {},
   "outputs": [],
   "source": [
    "import numpy as np\n",
    "import json\n",
    "from scipy.spatial.distance import cityblock, euclidean, cosine\n",
    "from sklearn.neighbors import NearestNeighbors\n",
    "from tqdm import tqdm\n",
    "\n",
    "from sentence_transformers import SentenceTransformer"
   ]
  },
  {
   "cell_type": "markdown",
   "id": "2",
   "metadata": {},
   "source": [
    "## What Does It Mean That Vectors Are Similar?"
   ]
  },
  {
   "cell_type": "markdown",
   "id": "3",
   "metadata": {},
   "source": [
    "After embed sentences we have vectors, right? So, from university calculus or linear algebra courses, you should remember that we can calculate how much two points are distances using different distance metrics, such as: \n",
    "- Euclidean Distance\n",
    "- Manhattan Distance\n",
    "- Cosine Similarity\n",
    "- Dot Product\n",
    "\n",
    "#TODO put formula? and an image\n",
    "\n",
    "Try by Yourself! Change vector_a and vector_b to check how the different distances differs."
   ]
  },
  {
   "cell_type": "code",
   "execution_count": null,
   "id": "4",
   "metadata": {},
   "outputs": [],
   "source": [
    "vector_a = np.array([0.9, 0.1, 0.23, 0.15])\n",
    "vector_b = np.array([0.9, 0.30, 0.23, 0.25])\n",
    "\n",
    "manhattan_dist = cityblock(vector_a, vector_b)\n",
    "euclidean_dist = euclidean(vector_a, vector_b)\n",
    "cosine_distance = cosine(vector_a, vector_b)\n",
    "\n",
    "print(\n",
    "    f\"Manhattan: {manhattan_dist}\\nEuclidean: {euclidean_dist}\\nCosine: {cosine_distance}\"\n",
    ")"
   ]
  },
  {
   "cell_type": "markdown",
   "id": "5",
   "metadata": {},
   "source": [
    "## Nearest Neighbors"
   ]
  },
  {
   "cell_type": "code",
   "execution_count": null,
   "id": "6",
   "metadata": {},
   "outputs": [],
   "source": [
    "with open(\"../data/movie_data.json\") as f:\n",
    "    movies = json.load(f)\n",
    "\n",
    "movies_overviews = [m[\"overview\"] for m in movies]\n",
    "len(movies_overviews)"
   ]
  },
  {
   "cell_type": "code",
   "execution_count": null,
   "id": "7",
   "metadata": {},
   "outputs": [],
   "source": [
    "encoder = SentenceTransformer(\"sentence-transformers/all-MiniLM-L6-v2\")"
   ]
  },
  {
   "cell_type": "code",
   "execution_count": null,
   "id": "8",
   "metadata": {},
   "outputs": [],
   "source": [
    "encoded_overviews = [encoder.encode(overview) for overview in tqdm(movies_overviews)]"
   ]
  },
  {
   "cell_type": "code",
   "execution_count": null,
   "id": "9",
   "metadata": {},
   "outputs": [],
   "source": [
    "prompt = \"Which movies are similar to Star Wars?\"\n",
    "encoded_prompt = encoder.encode([prompt])[0]"
   ]
  },
  {
   "cell_type": "code",
   "execution_count": null,
   "id": "10",
   "metadata": {},
   "outputs": [],
   "source": [
    "%time\n",
    "nbrs = NearestNeighbors(n_neighbors=100, algorithm=\"brute\").fit(encoded_overviews)\n",
    "distances, indices = nbrs.kneighbors(encoded_prompt)\n",
    "indices"
   ]
  },
  {
   "cell_type": "markdown",
   "id": "11",
   "metadata": {},
   "source": [
    "TODO: small explaination on vector db algorithm and why vector are improtant "
   ]
  },
  {
   "cell_type": "code",
   "execution_count": null,
   "id": "12",
   "metadata": {},
   "outputs": [],
   "source": [
    "from qdrant_client import models, QdrantClient\n",
    "from sentence_transformers import SentenceTransformer\n",
    "\n",
    "qdrant = QdrantClient(\":memory:\")\n",
    "\n",
    "COLLECTION_NAME = \"movies\"\n",
    "\n",
    "qdrant.recreate_collection(\n",
    "    collection_name=COLLECTION_NAME,\n",
    "    vectors_config=models.VectorParams(\n",
    "        size=encoder.get_sentence_embedding_dimension(), distance=models.Distance.COSINE\n",
    "    ),\n",
    ")"
   ]
  },
  {
   "cell_type": "code",
   "execution_count": null,
   "id": "13",
   "metadata": {},
   "outputs": [],
   "source": [
    "records = [\n",
    "    models.Record(id=idx, vector=encoded_mov.tolist(), payload=mov)\n",
    "    for idx, (encoded_mov, mov) in enumerate(zip(encoded_overviews, movies))\n",
    "]\n",
    "\n",
    "qdrant.upload_points(collection_name=COLLECTION_NAME, points=records)"
   ]
  },
  {
   "cell_type": "code",
   "execution_count": null,
   "id": "14",
   "metadata": {},
   "outputs": [],
   "source": [
    "%time\n",
    "qdrant.search(\n",
    "    collection_name=COLLECTION_NAME, query_vector=encoded_prompt.tolist(), limit=10\n",
    ")"
   ]
  }
 ],
 "metadata": {
  "kernelspec": {
   "display_name": "Python 3 (ipykernel)",
   "language": "python",
   "name": "python3"
  },
  "language_info": {
   "codemirror_mode": {
    "name": "ipython",
    "version": 3
   },
   "file_extension": ".py",
   "mimetype": "text/x-python",
   "name": "python",
   "nbconvert_exporter": "python",
   "pygments_lexer": "ipython3",
   "version": "3.11.8"
  }
 },
 "nbformat": 4,
 "nbformat_minor": 5
}
