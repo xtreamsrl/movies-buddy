{
 "cells": [
  {
   "cell_type": "markdown",
   "id": "0",
   "metadata": {},
   "source": [
    "# Embeddings"
   ]
  },
  {
   "cell_type": "code",
   "execution_count": null,
   "id": "1",
   "metadata": {},
   "outputs": [],
   "source": [
    "%load_ext autoreload\n",
    "%autoreload 2"
   ]
  },
  {
   "cell_type": "code",
   "execution_count": null,
   "id": "2",
   "metadata": {},
   "outputs": [],
   "source": [
    "from sentence_transformers import SentenceTransformer\n",
    "import umap\n",
    "import plotly.express as px\n",
    "import pandas as pd\n",
    "\n",
    "from movie_buddy.preprocessing.movies_dataset import get_movies_dataset"
   ]
  },
  {
   "cell_type": "code",
   "execution_count": null,
   "id": "3",
   "metadata": {},
   "outputs": [],
   "source": [
    "encoder = SentenceTransformer(\"sentence-transformers/all-MiniLM-L6-v2\")"
   ]
  },
  {
   "cell_type": "code",
   "execution_count": null,
   "id": "4",
   "metadata": {},
   "outputs": [],
   "source": [
    "my_sentences_list = [\n",
    "    (\"The sun rises in the east and sets in the west.\", \"Nature and Environment\"),\n",
    "    (\n",
    "        \"Forests play a crucial role in maintaining the earth's ecosystem.\",\n",
    "        \"Nature and Environment\",\n",
    "    ),\n",
    "    (\n",
    "        \"Pollution is one of the biggest threats to marine life.\",\n",
    "        \"Nature and Environment\",\n",
    "    ),\n",
    "    (\"Climate change affects weather patterns globally.\", \"Nature and Environment\"),\n",
    "    (\"Cats are known for their independence and agility.\", \"Animals\"),\n",
    "    (\"Dogs are loyal companions that can understand human emotions.\", \"Animals\"),\n",
    "    (\"Elephants have complex social structures and remarkable memory.\", \"Animals\"),\n",
    "    (\"Technology has revolutionized the way we communicate.\", \"Technology\"),\n",
    "    (\n",
    "        \"Artificial intelligence is transforming industries by automating tasks.\",\n",
    "        \"Technology\",\n",
    "    ),\n",
    "    (\n",
    "        \"Cybersecurity is essential in protecting online data from threats.\",\n",
    "        \"Technology\",\n",
    "    ),\n",
    "    (\"Cooking at home allows for healthier dietary choices.\", \"Health and Lifestyle\"),\n",
    "    (\n",
    "        \"Regular exercise contributes to both physical and mental well-being.\",\n",
    "        \"Health and Lifestyle\",\n",
    "    ),\n",
    "    (\"Meditation can reduce stress and improve focus.\", \"Health and Lifestyle\"),\n",
    "    (\n",
    "        \"Mathematics is fundamental to the understanding of the universe.\",\n",
    "        \"Science and Education\",\n",
    "    ),\n",
    "    (\n",
    "        \"Physics explores the fundamental principles governing the natural world.\",\n",
    "        \"Science and Education\",\n",
    "    ),\n",
    "    (\n",
    "        \"History teaches us about the successes and failures of past civilizations.\",\n",
    "        \"Science and Education\",\n",
    "    ),\n",
    "    (\n",
    "        \"Reading fiction can improve empathy and emotional intelligence.\",\n",
    "        \"Literature and Psychology\",\n",
    "    ),\n",
    "    (\n",
    "        \"Writing poetry is a way to express emotions and explore creativity.\",\n",
    "        \"Literature and Psychology\",\n",
    "    ),\n",
    "    (\n",
    "        \"Studying psychology helps us understand human behavior and mental processes.\",\n",
    "        \"Literature and Psychology\",\n",
    "    ),\n",
    "    (\"The Olympic Games bring together athletes from around the world.\", \"Sports\"),\n",
    "    (\n",
    "        \"Football is one of the most popular sports globally, with a vast fan base.\",\n",
    "        \"Sports\",\n",
    "    ),\n",
    "    (\n",
    "        \"Marathon running challenges individuals to push their physical limits.\",\n",
    "        \"Sports\",\n",
    "    ),\n",
    "    (\n",
    "        \"Renewable energy sources are key to sustainable development.\",\n",
    "        \"Energy and Sustainability\",\n",
    "    ),\n",
    "    (\n",
    "        \"Recycling reduces waste and conserves natural resources.\",\n",
    "        \"Energy and Sustainability\",\n",
    "    ),\n",
    "    (\n",
    "        \"Urban planning that includes green spaces contributes to environmental health.\",\n",
    "        \"Energy and Sustainability\",\n",
    "    ),\n",
    "]\n",
    "\n",
    "sentences_df = pd.DataFrame(my_sentences_list, columns=[\"sentences\", \"field\"])"
   ]
  },
  {
   "cell_type": "code",
   "execution_count": null,
   "id": "5",
   "metadata": {},
   "outputs": [],
   "source": [
    "sentences_df"
   ]
  },
  {
   "cell_type": "code",
   "execution_count": null,
   "id": "6",
   "metadata": {},
   "outputs": [],
   "source": [
    "encoded_sentences = encoder.encode(sentences_df[\"sentences\"])"
   ]
  },
  {
   "cell_type": "code",
   "execution_count": null,
   "id": "7",
   "metadata": {},
   "outputs": [],
   "source": [
    "encoded_sentences.shape"
   ]
  },
  {
   "cell_type": "code",
   "execution_count": null,
   "id": "8",
   "metadata": {},
   "outputs": [],
   "source": [
    "reducer = umap.UMAP()\n",
    "reduced_encoded_sentences = reducer.fit_transform(encoded_sentences)"
   ]
  },
  {
   "cell_type": "code",
   "execution_count": null,
   "id": "9",
   "metadata": {},
   "outputs": [],
   "source": [
    "reduced_encoded_sentences.tolist()"
   ]
  },
  {
   "cell_type": "code",
   "execution_count": null,
   "id": "10",
   "metadata": {},
   "outputs": [],
   "source": [
    "sentences_df[\"reduced_encoded_sentences\"] = reduced_encoded_sentences.tolist()\n",
    "split = pd.DataFrame(\n",
    "    sentences_df[\"reduced_encoded_sentences\"].to_list(), columns=[\"x\", \"y\"]\n",
    ")\n",
    "sentences_df = pd.concat([sentences_df, split], axis=1)\n",
    "sentences_df"
   ]
  },
  {
   "cell_type": "code",
   "execution_count": null,
   "id": "11",
   "metadata": {},
   "outputs": [],
   "source": [
    "sentences_df[\"short_sentences\"] = sentences_df[\"sentences\"].str.slice(0, 20) + \"...\"\n",
    "sentences_df"
   ]
  },
  {
   "cell_type": "code",
   "execution_count": null,
   "id": "12",
   "metadata": {},
   "outputs": [],
   "source": [
    "fig = px.scatter(\n",
    "    sentences_df,\n",
    "    x=\"x\",\n",
    "    y=\"y\",\n",
    "    text=\"short_sentences\",\n",
    "    color=\"field\",\n",
    "    height=512,\n",
    "    hover_name=\"field\",\n",
    "    hover_data={\n",
    "        \"sentences\": True,\n",
    "        \"x\": False,\n",
    "        \"y\": False,\n",
    "        \"field\": False,\n",
    "        \"short_sentences\": False,\n",
    "    },\n",
    ")\n",
    "fig.update_layout(title_text=\"Which Vector are close?\", template=\"plotly_white\")\n",
    "fig.update_traces(textposition=\"top center\", marker=dict(size=15))\n",
    "fig.show()"
   ]
  },
  {
   "cell_type": "markdown",
   "id": "13",
   "metadata": {},
   "source": [
    "## What About Movies? "
   ]
  },
  {
   "cell_type": "code",
   "execution_count": null,
   "id": "14",
   "metadata": {},
   "outputs": [],
   "source": [
    "movies_df = get_movies_dataset()"
   ]
  },
  {
   "cell_type": "code",
   "execution_count": null,
   "id": "15",
   "metadata": {},
   "outputs": [],
   "source": [
    "movies_df"
   ]
  },
  {
   "cell_type": "code",
   "execution_count": null,
   "id": "16",
   "metadata": {},
   "outputs": [],
   "source": [
    "len(movies_df[\"overview\"].tolist())"
   ]
  },
  {
   "cell_type": "code",
   "execution_count": null,
   "id": "17",
   "metadata": {},
   "outputs": [],
   "source": [
    "%time\n",
    "encoded_movies = encoder.encode(movies_df[\"overview\"].tolist())"
   ]
  },
  {
   "cell_type": "code",
   "execution_count": null,
   "id": "18",
   "metadata": {},
   "outputs": [],
   "source": [
    "reducer = umap.UMAP()\n",
    "reduced_encoded_movies = reducer.fit_transform(encoded_movies)"
   ]
  },
  {
   "cell_type": "code",
   "execution_count": null,
   "id": "19",
   "metadata": {},
   "outputs": [],
   "source": [
    "len(reduced_encoded_movies.tolist())"
   ]
  },
  {
   "cell_type": "code",
   "execution_count": null,
   "id": "20",
   "metadata": {},
   "outputs": [],
   "source": [
    "movies_df[\"encoded_overview\"] = reduced_encoded_movies.tolist()"
   ]
  },
  {
   "cell_type": "code",
   "execution_count": null,
   "id": "21",
   "metadata": {},
   "outputs": [],
   "source": [
    "movies_df"
   ]
  },
  {
   "cell_type": "code",
   "execution_count": null,
   "id": "22",
   "metadata": {},
   "outputs": [],
   "source": [
    "split = pd.DataFrame(movies_df[\"encoded_overview\"].tolist(), columns=[\"x\", \"y\"])"
   ]
  },
  {
   "cell_type": "code",
   "execution_count": null,
   "id": "23",
   "metadata": {},
   "outputs": [],
   "source": [
    "split"
   ]
  },
  {
   "cell_type": "code",
   "execution_count": null,
   "id": "24",
   "metadata": {},
   "outputs": [],
   "source": [
    "movies_df = pd.concat([movies_df.reset_index(), split.reset_index()], axis=1)\n",
    "movies_df"
   ]
  },
  {
   "cell_type": "code",
   "execution_count": null,
   "id": "25",
   "metadata": {},
   "outputs": [],
   "source": [
    "fig = px.scatter(\n",
    "    movies_df,\n",
    "    x=\"x\",\n",
    "    y=\"y\",\n",
    "    color=\"genre\",\n",
    "    height=512,\n",
    "    hover_name=\"genre\",\n",
    "    hover_data={\"overview\": False, \"title\": True, \"x\": False, \"y\": False},\n",
    ")\n",
    "fig.update_layout(title_text=\"Which Movies Are Close?\", template=\"plotly_white\")\n",
    "fig.update_traces(textposition=\"top center\", marker=dict(size=5))\n",
    "fig.show()"
   ]
  }
 ],
 "metadata": {
  "kernelspec": {
   "display_name": "Python 3 (ipykernel)",
   "language": "python",
   "name": "python3"
  },
  "language_info": {
   "codemirror_mode": {
    "name": "ipython",
    "version": 3
   },
   "file_extension": ".py",
   "mimetype": "text/x-python",
   "name": "python",
   "nbconvert_exporter": "python",
   "pygments_lexer": "ipython3",
   "version": "3.11.7"
  }
 },
 "nbformat": 4,
 "nbformat_minor": 5
}
